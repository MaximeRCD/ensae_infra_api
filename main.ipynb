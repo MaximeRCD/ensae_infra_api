{
 "cells": [
  {
   "cell_type": "code",
   "execution_count": 1,
   "metadata": {},
   "outputs": [],
   "source": [
    "from services import service_api"
   ]
  },
  {
   "cell_type": "code",
   "execution_count": 2,
   "metadata": {},
   "outputs": [
    {
     "name": "stdout",
     "output_type": "stream",
     "text": [
      "{'name': 'Filet de poulet au curry', 'url': 'http://www.marmiton.org/recettes/recette_filet-de-poulet-au-curry_80990.aspx', 'ingredients': [{'name': 'poivre', 'quantity': '', 'unit': ''}, {'name': 'sel', 'quantity': '', 'unit': ''}, {'name': 'curry', 'quantity': '1', 'unit': 'cuillère à café'}, {'name': \"huile d'olive\", 'quantity': '1', 'unit': 'cuillère à soupe'}, {'name': 'oignon', 'quantity': '1', 'unit': ''}, {'name': 'filets de poulet', 'quantity': '4', 'unit': ''}, {'name': 'ail', 'quantity': '', 'unit': ''}, {'name': 'sauce soja', 'quantity': '4', 'unit': 'cuillères à soupe'}, {'name': 'ciboulette', 'quantity': '4', 'unit': 'brins'}, {'name': 'crème fraîche épaisse', 'quantity': '10', 'unit': 'cl'}], 'nb_persons': '4'}\n",
      "{'name': 'Quiche poireaux, chèvre lardons', 'url': 'http://www.marmiton.org/recettes/recette_quiche-poireaux-chevre-lardons_22275.aspx', 'ingredients': [{'name': 'sel', 'quantity': '', 'unit': ''}, {'name': 'poivre', 'quantity': '', 'unit': ''}, {'name': 'crème fraîche', 'quantity': '20', 'unit': 'cl'}, {'name': 'poireaux', 'quantity': '3', 'unit': ''}, {'name': 'pâte brisée', 'quantity': '250', 'unit': 'g'}, {'name': 'lardons fumés', 'quantity': '100', 'unit': 'g'}, {'name': 'fromage de chèvre', 'quantity': '1', 'unit': ''}, {'name': 'oeufs', 'quantity': '3', 'unit': ''}, {'name': 'lait', 'quantity': '10', 'unit': 'cl'}], 'nb_persons': '4'}\n"
     ]
    },
    {
     "data": {
      "text/plain": [
       "[{'name': 'poivre', 'quantity': '', 'unit': ''},\n",
       " {'name': 'sel', 'quantity': '', 'unit': ''},\n",
       " {'name': 'curry', 'quantity': '1', 'unit': 'cuillère à café'},\n",
       " {'name': \"huile d'olive\", 'quantity': '1', 'unit': 'cuillère à soupe'},\n",
       " {'name': 'oignon', 'quantity': '1', 'unit': ''},\n",
       " {'name': 'filets de poulet', 'quantity': '4', 'unit': ''},\n",
       " {'name': 'ail', 'quantity': '', 'unit': ''},\n",
       " {'name': 'sauce soja', 'quantity': '4', 'unit': 'cuillères à soupe'},\n",
       " {'name': 'ciboulette', 'quantity': '4', 'unit': 'brins'},\n",
       " {'name': 'crème fraîche épaisse', 'quantity': '10', 'unit': 'cl'},\n",
       " {'name': 'crème fraîche', 'quantity': '20', 'unit': 'cl'},\n",
       " {'name': 'poireaux', 'quantity': '3', 'unit': ''},\n",
       " {'name': 'pâte brisée', 'quantity': '250', 'unit': 'g'},\n",
       " {'name': 'lardons fumés', 'quantity': '100', 'unit': 'g'},\n",
       " {'name': 'fromage de chèvre', 'quantity': '1', 'unit': ''},\n",
       " {'name': 'oeufs', 'quantity': '3', 'unit': ''},\n",
       " {'name': 'lait', 'quantity': '10', 'unit': 'cl'}]"
      ]
     },
     "execution_count": 2,
     "metadata": {},
     "output_type": "execute_result"
    }
   ],
   "source": [
    "service_api.get_shopping_list(['poulet curry','quiche aux lardons'],4)"
   ]
  },
  {
   "cell_type": "code",
   "execution_count": 3,
   "metadata": {},
   "outputs": [
    {
     "name": "stderr",
     "output_type": "stream",
     "text": [
      "Some characters could not be decoded, and were replaced with REPLACEMENT CHARACTER.\n"
     ]
    },
    {
     "name": "stdout",
     "output_type": "stream",
     "text": [
      "{'name': 'Filet de poulet au curry', 'url': 'http://www.marmiton.org/recettes/recette_filet-de-poulet-au-curry_80990.aspx', 'ingredients': [{'name': 'poivre', 'quantity': '', 'unit': ''}, {'name': 'sel', 'quantity': '', 'unit': ''}, {'name': 'curry', 'quantity': '1', 'unit': 'cuillère à café'}, {'name': \"huile d'olive\", 'quantity': '1', 'unit': 'cuillère à soupe'}, {'name': 'oignon', 'quantity': '1', 'unit': ''}, {'name': 'filets de poulet', 'quantity': '4', 'unit': ''}, {'name': 'ail', 'quantity': '', 'unit': ''}, {'name': 'sauce soja', 'quantity': '4', 'unit': 'cuillères à soupe'}, {'name': 'ciboulette', 'quantity': '4', 'unit': 'brins'}, {'name': 'crème fraîche épaisse', 'quantity': '10', 'unit': 'cl'}], 'nb_persons': '4'}\n",
      "{'name': 'Quiche poireaux, chèvre lardons', 'url': 'http://www.marmiton.org/recettes/recette_quiche-poireaux-chevre-lardons_22275.aspx', 'ingredients': [{'name': 'sel', 'quantity': '', 'unit': ''}, {'name': 'poivre', 'quantity': '', 'unit': ''}, {'name': 'crème fraîche', 'quantity': '20', 'unit': 'cl'}, {'name': 'poireaux', 'quantity': '3', 'unit': ''}, {'name': 'pâte brisée', 'quantity': '250', 'unit': 'g'}, {'name': 'lardons fumés', 'quantity': '100', 'unit': 'g'}, {'name': 'fromage de chèvre', 'quantity': '1', 'unit': ''}, {'name': 'oeufs', 'quantity': '3', 'unit': ''}, {'name': 'lait', 'quantity': '10', 'unit': 'cl'}], 'nb_persons': '4'}\n",
      "{'name': 'Quiche aux légumes du soleil', 'url': 'http://www.marmiton.org/recettes/recette_quiche-aux-legumes-du-soleil_70060.aspx', 'ingredients': [{'name': \"huile d'olive\", 'quantity': '3', 'unit': 'cuillères à soupe'}, {'name': 'sel', 'quantity': '', 'unit': ''}, {'name': 'poivre', 'quantity': '', 'unit': ''}, {'name': 'oignon', 'quantity': '1', 'unit': ''}, {'name': 'poivron jaune', 'quantity': '1', 'unit': ''}, {'name': 'aubergine', 'quantity': '1', 'unit': 'demi'}, {'name': 'courgette', 'quantity': '1', 'unit': 'demi'}, {'name': 'pâte feuilletée', 'quantity': '1', 'unit': ''}, {'name': 'ail', 'quantity': '1', 'unit': 'gousse'}, {'name': 'crème fraîche liquide', 'quantity': '20', 'unit': 'cl'}, {'name': 'oeufs', 'quantity': '2', 'unit': ''}], 'nb_persons': '4'}\n"
     ]
    },
    {
     "data": {
      "text/plain": [
       "[{'name': 'poivre', 'quantity': '', 'unit': ''},\n",
       " {'name': 'sel', 'quantity': '', 'unit': ''},\n",
       " {'name': 'curry', 'quantity': 1.5, 'unit': 'cuillère à café'},\n",
       " {'name': \"huile d'olive\", 'quantity': 1.5, 'unit': 'cuillère à soupe'},\n",
       " {'name': 'oignon', 'quantity': 3.0, 'unit': ''},\n",
       " {'name': 'filets de poulet', 'quantity': 6.0, 'unit': ''},\n",
       " {'name': 'ail', 'quantity': '', 'unit': ''},\n",
       " {'name': 'sauce soja', 'quantity': 6.0, 'unit': 'cuillères à soupe'},\n",
       " {'name': 'ciboulette', 'quantity': 6.0, 'unit': 'brins'},\n",
       " {'name': 'crème fraîche épaisse', 'quantity': 15.0, 'unit': 'cl'},\n",
       " {'name': 'crème fraîche', 'quantity': 30.0, 'unit': 'cl'},\n",
       " {'name': 'poireaux', 'quantity': 4.5, 'unit': ''},\n",
       " {'name': 'pâte brisée', 'quantity': 375.0, 'unit': 'g'},\n",
       " {'name': 'lardons fumés', 'quantity': 150.0, 'unit': 'g'},\n",
       " {'name': 'fromage de chèvre', 'quantity': 1.5, 'unit': ''},\n",
       " {'name': 'oeufs', 'quantity': 7.5, 'unit': ''},\n",
       " {'name': 'lait', 'quantity': 15.0, 'unit': 'cl'},\n",
       " {'name': \"huile d'olive\", 'quantity': 4.5, 'unit': 'cuillères à soupe'},\n",
       " {'name': 'poivron jaune', 'quantity': 1.5, 'unit': ''},\n",
       " {'name': 'aubergine', 'quantity': 1.5, 'unit': 'demi'},\n",
       " {'name': 'courgette', 'quantity': 1.5, 'unit': 'demi'},\n",
       " {'name': 'pâte feuilletée', 'quantity': 1.5, 'unit': ''},\n",
       " {'name': 'ail', 'quantity': 1.5, 'unit': 'gousse'},\n",
       " {'name': 'crème fraîche liquide', 'quantity': 30.0, 'unit': 'cl'}]"
      ]
     },
     "execution_count": 3,
     "metadata": {},
     "output_type": "execute_result"
    }
   ],
   "source": [
    "service_api.get_shopping_list(['poulet curry','quiche aux lardons','quiche aux légumes de soleil'],6)"
   ]
  },
  {
   "cell_type": "code",
   "execution_count": null,
   "metadata": {},
   "outputs": [],
   "source": []
  }
 ],
 "metadata": {
  "kernelspec": {
   "display_name": "venv",
   "language": "python",
   "name": "python3"
  },
  "language_info": {
   "codemirror_mode": {
    "name": "ipython",
    "version": 3
   },
   "file_extension": ".py",
   "mimetype": "text/x-python",
   "name": "python",
   "nbconvert_exporter": "python",
   "pygments_lexer": "ipython3",
   "version": "3.10.12"
  }
 },
 "nbformat": 4,
 "nbformat_minor": 2
}
