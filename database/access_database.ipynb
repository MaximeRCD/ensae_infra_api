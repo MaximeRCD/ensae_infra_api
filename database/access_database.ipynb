{
 "cells": [
  {
   "cell_type": "code",
   "execution_count": 1,
   "metadata": {},
   "outputs": [],
   "source": [
    "# ! pip install python-marmiton\n",
    "# ! pip install pymongo"
   ]
  },
  {
   "cell_type": "markdown",
   "metadata": {},
   "source": [
    "**First read and run the instructions from `README.md` inside the `/database` folder.**\n",
    "\n",
    "# Get a recipe"
   ]
  },
  {
   "cell_type": "code",
   "execution_count": 2,
   "metadata": {},
   "outputs": [],
   "source": [
    "# query the \"quiche lorraine\" recipe\n",
    "from marmiton import Marmiton, RecipeNotFound\n",
    "\n",
    "query_options = {\n",
    "  \"aqt\": \"quiche lorraine\",  # Query keywords - separated by a white space\n",
    "  \"dt\": \"platprincipal\",       # Plate type : \"entree\", \"platprincipal\", \"accompagnement\", \"amusegueule\", \"sauce\" (optional)\n",
    "  \"exp\": 2,                    # Plate price : 1 -> Cheap, 2 -> Medium, 3 -> Kind of expensive (optional)\n",
    "  \"dif\": 2,                    # Recipe difficulty : 1 -> Very easy, 2 -> Easy, 3 -> Medium, 4 -> Advanced (optional)\n",
    "  \"veg\": 0,                    # Vegetarien only : 0 -> False, 1 -> True (optional)\n",
    "}\n",
    "\n",
    "query_result = Marmiton.search(query_options)\n",
    "recipe = query_result[2]"
   ]
  },
  {
   "cell_type": "code",
   "execution_count": 7,
   "metadata": {},
   "outputs": [
    {
     "name": "stdout",
     "output_type": "stream",
     "text": [
      "Databases:  ['admin', 'config', 'local']\n"
     ]
    }
   ],
   "source": [
    "# connect to the database\n",
    "from pymongo import MongoClient\n",
    "client = MongoClient(\"localhost\", 27017)\n",
    "databases = client.list_database_names()\n",
    "print(\"Databases: \",databases)"
   ]
  },
  {
   "cell_type": "code",
   "execution_count": 8,
   "metadata": {},
   "outputs": [],
   "source": [
    "# create the database and table\n",
    "db = client['mydatabase']\n",
    "collection = db['recipes']"
   ]
  },
  {
   "cell_type": "markdown",
   "metadata": {},
   "source": [
    "# Store"
   ]
  },
  {
   "cell_type": "code",
   "execution_count": 9,
   "metadata": {},
   "outputs": [
    {
     "data": {
      "text/plain": [
       "InsertOneResult(ObjectId('6560a2c4602854bd933a730e'), acknowledged=True)"
      ]
     },
     "execution_count": 9,
     "metadata": {},
     "output_type": "execute_result"
    }
   ],
   "source": [
    "# stores\n",
    "collection.insert_one(recipe)"
   ]
  },
  {
   "cell_type": "markdown",
   "metadata": {},
   "source": [
    "# Retrieve"
   ]
  },
  {
   "cell_type": "code",
   "execution_count": 12,
   "metadata": {},
   "outputs": [
    {
     "name": "stdout",
     "output_type": "stream",
     "text": [
      "First available recipe:  {'_id': ObjectId('6560a2c4602854bd933a730e'), 'name': 'Quiche jambon, fromage, tomate, olives', 'url': '/recettes/recette_quiche-jambon-fromage-tomate-olives_535806.aspx', 'rate': '0', 'image': 'https://assets.afcdn.com/recipe/20230808/144579_w190h190c1cx3163cy1572cxb6240cyb4160.webp'}\n"
     ]
    }
   ],
   "source": [
    "# get first available recipe\n",
    "first_available_recipe = collection.find_one()\n",
    "print(\"First available recipe: \", first_available_recipe)"
   ]
  },
  {
   "cell_type": "markdown",
   "metadata": {},
   "source": [
    "# Other request ?"
   ]
  }
 ],
 "metadata": {
  "kernelspec": {
   "display_name": "infra",
   "language": "python",
   "name": "python3"
  },
  "language_info": {
   "codemirror_mode": {
    "name": "ipython",
    "version": 3
   },
   "file_extension": ".py",
   "mimetype": "text/x-python",
   "name": "python",
   "nbconvert_exporter": "python",
   "pygments_lexer": "ipython3",
   "version": "3.11.5"
  }
 },
 "nbformat": 4,
 "nbformat_minor": 2
}
