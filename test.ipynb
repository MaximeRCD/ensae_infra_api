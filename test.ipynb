{
 "cells": [
  {
   "cell_type": "code",
   "execution_count": 1,
   "metadata": {},
   "outputs": [],
   "source": [
    "from marmiton import Marmiton, RecipeNotFound"
   ]
  },
  {
   "cell_type": "code",
   "execution_count": 2,
   "metadata": {},
   "outputs": [],
   "source": [
    "query_options = {\n",
    "  \"aqt\": \"Fondue savoyarde\",      # Query keywords - separated by a white space\n",
    "  \"dt\": \"platprincipal\",      # Plate type : \"entree\", \"platprincipal\", \"accompagnement\", \"amusegueule\", \"sauce\" (optional)\n",
    "  \"exp\": 2,                   # Plate price : 1 -> Cheap, 2 -> Medium, 3 -> Kind of expensive (optional)\n",
    "  \"dif\": 2,                   # Recipe difficulty : 1 -> Very easy, 2 -> Easy, 3 -> Medium, 4 -> Advanced (optional)\n",
    "  \"veg\": 0,                   # Vegetarien only : 0 -> False, 1 -> True (optional)\n",
    "}\n",
    "query_result = Marmiton.search(query_options)\n",
    "\n",
    "# Get :\n",
    "recipe = query_result[0]\n",
    "main_recipe_url = recipe['url']\n",
    "\n",
    "detailed_recipe = Marmiton.get(main_recipe_url) "
   ]
  },
  {
   "cell_type": "code",
   "execution_count": 3,
   "metadata": {},
   "outputs": [
    {
     "data": {
      "text/plain": [
       "{'name': 'Véritable Fondue savoyarde',\n",
       " 'url': '/recettes/recette_veritable-fondue-savoyarde_34077.aspx',\n",
       " 'rate': '4.7',\n",
       " 'image': 'https://assets.afcdn.com/recipe/20130627/14484_w190h190c1cx1250cy1875.webp'}"
      ]
     },
     "execution_count": 3,
     "metadata": {},
     "output_type": "execute_result"
    }
   ],
   "source": [
    "recipe"
   ]
  },
  {
   "cell_type": "code",
   "execution_count": 5,
   "metadata": {},
   "outputs": [
    {
     "data": {
      "text/plain": [
       "{'url': 'http://www.marmiton.org/recettes/recette_veritable-fondue-savoyarde_34077.aspx',\n",
       " 'name': 'Véritable Fondue savoyarde',\n",
       " 'ingredients': [],\n",
       " 'author': 'Anonyme',\n",
       " 'author_tip': '',\n",
       " 'steps': [],\n",
       " 'images': ['https://assets.afcdn.com/recipe/20100101/magazine-2020-04-05_h150.jpg',\n",
       "  'https://assets.afcdn.com/recipe/20100101/magazine-2020-05-05_h150.jpg'],\n",
       " 'rate': '',\n",
       " 'difficulty': '',\n",
       " 'budget': '',\n",
       " 'cook_time': '15 min',\n",
       " 'prep_time': '30 min',\n",
       " 'total_time': '',\n",
       " 'recipe_quantity': '',\n",
       " 'nb_comments': 0}"
      ]
     },
     "execution_count": 5,
     "metadata": {},
     "output_type": "execute_result"
    }
   ],
   "source": [
    "detailed_recipe"
   ]
  },
  {
   "cell_type": "code",
   "execution_count": null,
   "metadata": {},
   "outputs": [],
   "source": []
  }
 ],
 "metadata": {
  "kernelspec": {
   "display_name": "venv",
   "language": "python",
   "name": "python3"
  },
  "language_info": {
   "codemirror_mode": {
    "name": "ipython",
    "version": 3
   },
   "file_extension": ".py",
   "mimetype": "text/x-python",
   "name": "python",
   "nbconvert_exporter": "python",
   "pygments_lexer": "ipython3",
   "version": "3.10.12"
  }
 },
 "nbformat": 4,
 "nbformat_minor": 2
}
