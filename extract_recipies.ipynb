{
 "cells": [
  {
   "cell_type": "code",
   "execution_count": 2,
   "metadata": {},
   "outputs": [
    {
     "name": "stdout",
     "output_type": "stream",
     "text": [
      "Collecting python-marmiton\n",
      "  Downloading python-marmiton-0.4.2.tar.gz (4.9 kB)\n",
      "  Preparing metadata (setup.py): started\n",
      "  Preparing metadata (setup.py): finished with status 'done'\n",
      "Collecting bs4 (from python-marmiton)\n",
      "  Downloading bs4-0.0.1.tar.gz (1.1 kB)\n",
      "  Preparing metadata (setup.py): started\n",
      "  Preparing metadata (setup.py): finished with status 'done'\n",
      "Requirement already satisfied: beautifulsoup4 in c:\\users\\paul\\.conda\\envs\\infra\\lib\\site-packages (from bs4->python-marmiton) (4.12.2)\n",
      "Requirement already satisfied: soupsieve>1.2 in c:\\users\\paul\\.conda\\envs\\infra\\lib\\site-packages (from beautifulsoup4->bs4->python-marmiton) (2.5)\n",
      "Building wheels for collected packages: python-marmiton, bs4\n",
      "  Building wheel for python-marmiton (setup.py): started\n",
      "  Building wheel for python-marmiton (setup.py): finished with status 'done'\n",
      "  Created wheel for python-marmiton: filename=python_marmiton-0.4.2-py3-none-any.whl size=3109 sha256=fafba9ea663d3bee3af53b9386de3ffbf984a3afa9f4e138e97b707cbc702353\n",
      "  Stored in directory: c:\\users\\paul\\appdata\\local\\pip\\cache\\wheels\\09\\2a\\71\\ca599882509cd916d9a3bf4e02321ebfd75a5973fa8c25856b\n",
      "  Building wheel for bs4 (setup.py): started\n",
      "  Building wheel for bs4 (setup.py): finished with status 'done'\n",
      "  Created wheel for bs4: filename=bs4-0.0.1-py3-none-any.whl size=1265 sha256=cc399245da81f3ffee987d993af3704e309f16b5f48d2bb6a737f19d4084f295\n",
      "  Stored in directory: c:\\users\\paul\\appdata\\local\\pip\\cache\\wheels\\d4\\c8\\5b\\b5be9c20e5e4503d04a6eac8a3cd5c2393505c29f02bea0960\n",
      "Successfully built python-marmiton bs4\n",
      "Installing collected packages: bs4, python-marmiton\n",
      "Successfully installed bs4-0.0.1 python-marmiton-0.4.2\n"
     ]
    }
   ],
   "source": [
    "# ! pip install python-marmiton"
   ]
  },
  {
   "cell_type": "code",
   "execution_count": 3,
   "metadata": {},
   "outputs": [],
   "source": [
    "from marmiton import Marmiton, RecipeNotFound"
   ]
  },
  {
   "cell_type": "code",
   "execution_count": 4,
   "metadata": {},
   "outputs": [],
   "source": [
    "query_options = {\n",
    "  \"aqt\": \"quiche lorraine\",  # Query keywords - separated by a white space\n",
    "  \"dt\": \"platprincipal\",       # Plate type : \"entree\", \"platprincipal\", \"accompagnement\", \"amusegueule\", \"sauce\" (optional)\n",
    "  \"exp\": 2,                    # Plate price : 1 -> Cheap, 2 -> Medium, 3 -> Kind of expensive (optional)\n",
    "  \"dif\": 2,                    # Recipe difficulty : 1 -> Very easy, 2 -> Easy, 3 -> Medium, 4 -> Advanced (optional)\n",
    "  \"veg\": 0,                    # Vegetarien only : 0 -> False, 1 -> True (optional)\n",
    "}"
   ]
  },
  {
   "cell_type": "code",
   "execution_count": 5,
   "metadata": {},
   "outputs": [],
   "source": [
    "query_result = Marmiton.search(query_options)\n"
   ]
  },
  {
   "cell_type": "code",
   "execution_count": 6,
   "metadata": {},
   "outputs": [],
   "source": [
    "recipe = query_result[2]\n",
    "main_recipe_url = recipe['url']"
   ]
  },
  {
   "cell_type": "code",
   "execution_count": 7,
   "metadata": {},
   "outputs": [
    {
     "name": "stdout",
     "output_type": "stream",
     "text": [
      "Quiche jambon, fromage, tomate, olives\n",
      "{'name': 'Quiche jambon, fromage, tomate, olives', 'url': '/recettes/recette_quiche-jambon-fromage-tomate-olives_535806.aspx', 'rate': '0', 'image': 'https://assets.afcdn.com/recipe/20230808/144579_w190h190c1cx3163cy1572cxb6240cyb4160.webp'}\n"
     ]
    }
   ],
   "source": [
    "print(recipe['name'])\n",
    "print(recipe)"
   ]
  },
  {
   "cell_type": "code",
   "execution_count": 8,
   "metadata": {},
   "outputs": [],
   "source": [
    "try:\n",
    "    detailed_recipe = Marmiton.get(main_recipe_url)  # Get the details of the first returned recipe (most relevant in our case)\n",
    "except RecipeNotFound as e:\n",
    "    print(f\"No recipe found for '{query_options['aqt']}'\")\n",
    "    import sys\n",
    "    sys.exit(0)"
   ]
  },
  {
   "cell_type": "code",
   "execution_count": 9,
   "metadata": {},
   "outputs": [
    {
     "name": "stdout",
     "output_type": "stream",
     "text": [
      "## Quiche jambon, fromage, tomate, olives\n",
      "\n",
      "Recette par 'Anonyme'\n",
      "Noté /5 par 0 personnes.\n",
      "Temps de cuisson : 25 min / Temps de préparation : 15 min / Temps total : .\n",
      "Difficulté : ''\n",
      "Budget : ''\n"
     ]
    }
   ],
   "source": [
    "print(\"## %s\\n\" % detailed_recipe['name'])  # Name of the recipe\n",
    "print(\"Recette par '%s'\" % (detailed_recipe['author']))\n",
    "print(\"Noté %s/5 par %s personnes.\" % (detailed_recipe['rate'], detailed_recipe['nb_comments']))\n",
    "print(\"Temps de cuisson : %s / Temps de préparation : %s / Temps total : %s.\" % (detailed_recipe['cook_time'] if detailed_recipe['cook_time'] else 'N/A',detailed_recipe['prep_time'], detailed_recipe['total_time']))\n",
    "print(\"Difficulté : '%s'\" % detailed_recipe['difficulty'])\n",
    "print(\"Budget : '%s'\" % detailed_recipe['budget'])"
   ]
  },
  {
   "cell_type": "code",
   "execution_count": 10,
   "metadata": {},
   "outputs": [
    {
     "name": "stdout",
     "output_type": "stream",
     "text": [
      "{'url': 'http://www.marmiton.org/recettes/recette_quiche-jambon-fromage-tomate-olives_535806.aspx', 'name': 'Quiche jambon, fromage, tomate, olives', 'ingredients': [], 'author': 'Anonyme', 'author_tip': '', 'steps': [], 'images': ['https://assets.afcdn.com/recipe/20100101/magazine-2020-04-05_h150.jpg', 'https://assets.afcdn.com/recipe/20100101/magazine-2020-05-05_h150.jpg'], 'rate': '', 'difficulty': '', 'budget': '', 'cook_time': '25 min', 'prep_time': '15 min', 'total_time': '', 'recipe_quantity': '', 'nb_comments': 0}\n"
     ]
    }
   ],
   "source": [
    "print(detailed_recipe)"
   ]
  },
  {
   "cell_type": "code",
   "execution_count": 11,
   "metadata": {},
   "outputs": [
    {
     "name": "stdout",
     "output_type": "stream",
     "text": [
      "\n"
     ]
    }
   ],
   "source": [
    "for ingredient in detailed_recipe['ingredients']:  # List of ingredients\n",
    "    print(\"- %s\" % ingredient)\n",
    "\n",
    "print(\"\")\n",
    "\n",
    "for step in detailed_recipe['steps']:  # List of cooking steps\n",
    "    print(\"# %s\" % step)\n",
    "\n",
    "if detailed_recipe['author_tip']:\n",
    "    print(\"\\nNote de l'auteur :\\n%s\" % detailed_recipe['author_tip'])"
   ]
  },
  {
   "cell_type": "code",
   "execution_count": null,
   "metadata": {},
   "outputs": [],
   "source": []
  }
 ],
 "metadata": {
  "kernelspec": {
   "display_name": "Python 3",
   "language": "python",
   "name": "python3"
  },
  "language_info": {
   "codemirror_mode": {
    "name": "ipython",
    "version": 3
   },
   "file_extension": ".py",
   "mimetype": "text/x-python",
   "name": "python",
   "nbconvert_exporter": "python",
   "pygments_lexer": "ipython3",
   "version": "3.11.5"
  }
 },
 "nbformat": 4,
 "nbformat_minor": 2
}
