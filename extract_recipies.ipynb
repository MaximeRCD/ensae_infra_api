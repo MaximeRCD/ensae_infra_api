{
 "cells": [
  {
   "cell_type": "code",
   "execution_count": 1,
   "metadata": {},
   "outputs": [],
   "source": [
    "from marmiton import Marmiton, RecipeNotFound"
   ]
  },
  {
   "cell_type": "code",
   "execution_count": 27,
   "metadata": {},
   "outputs": [],
   "source": [
    "query_options = {\n",
    "  \"aqt\": \"quiche lorraine\",  # Query keywords - separated by a white space\n",
    "  \"dt\": \"platprincipal\",       # Plate type : \"entree\", \"platprincipal\", \"accompagnement\", \"amusegueule\", \"sauce\" (optional)\n",
    "  \"exp\": 2,                    # Plate price : 1 -> Cheap, 2 -> Medium, 3 -> Kind of expensive (optional)\n",
    "  \"dif\": 2,                    # Recipe difficulty : 1 -> Very easy, 2 -> Easy, 3 -> Medium, 4 -> Advanced (optional)\n",
    "  \"veg\": 0,                    # Vegetarien only : 0 -> False, 1 -> True (optional)\n",
    "}"
   ]
  },
  {
   "cell_type": "code",
   "execution_count": 28,
   "metadata": {},
   "outputs": [],
   "source": [
    "query_result = Marmiton.search(query_options)\n"
   ]
  },
  {
   "cell_type": "code",
   "execution_count": 29,
   "metadata": {},
   "outputs": [],
   "source": [
    "recipe = query_result[2]\n",
    "main_recipe_url = recipe['url']"
   ]
  },
  {
   "cell_type": "code",
   "execution_count": 30,
   "metadata": {},
   "outputs": [
    {
     "name": "stdout",
     "output_type": "stream",
     "text": [
      "Quiche jambon, fromage, tomate, olives\n",
      "{'name': 'Quiche jambon, fromage, tomate, olives', 'url': '/recettes/recette_quiche-jambon-fromage-tomate-olives_535806.aspx', 'rate': '0', 'image': 'https://assets.afcdn.com/recipe/20230808/144579_w190h190c1cx3163cy1572cxb6240cyb4160.webp'}\n"
     ]
    }
   ],
   "source": [
    "print(recipe['name'])\n",
    "print(recipe)"
   ]
  },
  {
   "cell_type": "code",
   "execution_count": 31,
   "metadata": {},
   "outputs": [],
   "source": [
    "try:\n",
    "    detailed_recipe = Marmiton.get(main_recipe_url)  # Get the details of the first returned recipe (most relevant in our case)\n",
    "except RecipeNotFound as e:\n",
    "    print(f\"No recipe found for '{query_options['aqt']}'\")\n",
    "    import sys\n",
    "    sys.exit(0)"
   ]
  },
  {
   "cell_type": "code",
   "execution_count": 32,
   "metadata": {},
   "outputs": [
    {
     "name": "stdout",
     "output_type": "stream",
     "text": [
      "## Quiche jambon, fromage, tomate, olives\n",
      "\n",
      "Recette par 'Anonyme'\n",
      "Noté /5 par 0 personnes.\n",
      "Temps de cuisson : 25 min / Temps de préparation : 15 min / Temps total : .\n",
      "Difficulté : ''\n",
      "Budget : ''\n"
     ]
    }
   ],
   "source": [
    "print(\"## %s\\n\" % detailed_recipe['name'])  # Name of the recipe\n",
    "print(\"Recette par '%s'\" % (detailed_recipe['author']))\n",
    "print(\"Noté %s/5 par %s personnes.\" % (detailed_recipe['rate'], detailed_recipe['nb_comments']))\n",
    "print(\"Temps de cuisson : %s / Temps de préparation : %s / Temps total : %s.\" % (detailed_recipe['cook_time'] if detailed_recipe['cook_time'] else 'N/A',detailed_recipe['prep_time'], detailed_recipe['total_time']))\n",
    "print(\"Difficulté : '%s'\" % detailed_recipe['difficulty'])\n",
    "print(\"Budget : '%s'\" % detailed_recipe['budget'])"
   ]
  },
  {
   "cell_type": "code",
   "execution_count": 33,
   "metadata": {},
   "outputs": [
    {
     "name": "stdout",
     "output_type": "stream",
     "text": [
      "{'url': 'http://www.marmiton.org/recettes/recette_quiche-jambon-fromage-tomate-olives_535806.aspx', 'name': 'Quiche jambon, fromage, tomate, olives', 'ingredients': [], 'author': 'Anonyme', 'author_tip': '', 'steps': [], 'images': ['https://assets.afcdn.com/recipe/20100101/magazine-2020-04-05_h150.jpg', 'https://assets.afcdn.com/recipe/20100101/magazine-2020-05-05_h150.jpg'], 'rate': '', 'difficulty': '', 'budget': '', 'cook_time': '25 min', 'prep_time': '15 min', 'total_time': '', 'recipe_quantity': '', 'nb_comments': 0}\n"
     ]
    }
   ],
   "source": [
    "print(detailed_recipe)"
   ]
  },
  {
   "cell_type": "code",
   "execution_count": 17,
   "metadata": {},
   "outputs": [
    {
     "name": "stdout",
     "output_type": "stream",
     "text": [
      "\n"
     ]
    }
   ],
   "source": [
    "for ingredient in detailed_recipe['ingredients']:  # List of ingredients\n",
    "    print(\"- %s\" % ingredient)\n",
    "\n",
    "print(\"\")\n",
    "\n",
    "for step in detailed_recipe['steps']:  # List of cooking steps\n",
    "    print(\"# %s\" % step)\n",
    "\n",
    "if detailed_recipe['author_tip']:\n",
    "    print(\"\\nNote de l'auteur :\\n%s\" % detailed_recipe['author_tip'])"
   ]
  }
 ],
 "metadata": {
  "kernelspec": {
   "display_name": "Python 3",
   "language": "python",
   "name": "python3"
  },
  "language_info": {
   "codemirror_mode": {
    "name": "ipython",
    "version": 3
   },
   "file_extension": ".py",
   "mimetype": "text/x-python",
   "name": "python",
   "nbconvert_exporter": "python",
   "pygments_lexer": "ipython3",
   "version": "3.10.9"
  }
 },
 "nbformat": 4,
 "nbformat_minor": 2
}
