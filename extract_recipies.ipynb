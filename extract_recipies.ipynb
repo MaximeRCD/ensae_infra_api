{
 "cells": [
  {
   "cell_type": "code",
   "execution_count": 3,
   "metadata": {},
   "outputs": [
    {
     "ename": "ModuleNotFoundError",
     "evalue": "No module named 'marmiton'",
     "output_type": "error",
     "traceback": [
      "\u001b[0;31m---------------------------------------------------------------------------\u001b[0m",
      "\u001b[0;31mModuleNotFoundError\u001b[0m                       Traceback (most recent call last)",
      "\u001b[1;32m/Users/macbook/Desktop/Infra & systèmes logiciels/Projet/ensae_infra_api/extract_recipies.ipynb Cellule 2\u001b[0m line \u001b[0;36m1\n\u001b[0;32m----> <a href='vscode-notebook-cell:/Users/macbook/Desktop/Infra%20%26%20syst%C3%A8mes%20logiciels/Projet/ensae_infra_api/extract_recipies.ipynb#W1sZmlsZQ%3D%3D?line=0'>1</a>\u001b[0m \u001b[39mfrom\u001b[39;00m \u001b[39mmarmiton\u001b[39;00m \u001b[39mimport\u001b[39;00m Marmiton, RecipeNotFound\n",
      "\u001b[0;31mModuleNotFoundError\u001b[0m: No module named 'marmiton'"
     ]
    }
   ],
   "source": [
    "from marmiton import Marmiton, RecipeNotFound"
   ]
  },
  {
   "cell_type": "code",
   "execution_count": null,
   "metadata": {},
   "outputs": [
    {
     "ename": "",
     "evalue": "",
     "output_type": "error",
     "traceback": [
      "\u001b[1;31mLe noyau n'a pas pu démarrer car l'environnement Python « venv » n'est plus disponible. Pensez à sélectionner un autre noyau ou à actualiser la liste des environnements Python."
     ]
    }
   ],
   "source": [
    "query_options = {\n",
    "  \"aqt\": \"boeuf bourguignon\",  # Query keywords - separated by a white space\n",
    "  \"dt\": \"platprincipal\",       # Plate type : \"entree\", \"platprincipal\", \"accompagnement\", \"amusegueule\", \"sauce\" (optional)\n",
    "  \"exp\": 2,                    # Plate price : 1 -> Cheap, 2 -> Medium, 3 -> Kind of expensive (optional)\n",
    "  \"dif\": 2,                    # Recipe difficulty : 1 -> Very easy, 2 -> Easy, 3 -> Medium, 4 -> Advanced (optional)\n",
    "  \"veg\": 0,                    # Vegetarien only : 0 -> False, 1 -> True (optional)\n",
    "}"
   ]
  },
  {
   "cell_type": "code",
   "execution_count": 4,
   "metadata": {},
   "outputs": [],
   "source": [
    "query_result = Marmiton.search(query_options)\n"
   ]
  },
  {
   "cell_type": "code",
   "execution_count": 5,
   "metadata": {},
   "outputs": [],
   "source": [
    "recipe = query_result[0]\n",
    "main_recipe_url = recipe['url']"
   ]
  },
  {
   "cell_type": "code",
   "execution_count": 8,
   "metadata": {},
   "outputs": [
    {
     "name": "stdout",
     "output_type": "stream",
     "text": [
      "Boeuf bourguignon : la vraie recette\n",
      "{'name': 'Boeuf bourguignon : la vraie recette', 'url': '/recettes/recette_boeuf-bourguignon_18889.aspx', 'rate': '4.8', 'image': 'https://assets.afcdn.com/recipe/20220707/133382_w190h190c1cx1396cy931cxb2162cyb1386.webp'}\n"
     ]
    }
   ],
   "source": [
    "print(recipe['name'])\n",
    "print(recipe)"
   ]
  },
  {
   "cell_type": "code",
   "execution_count": 9,
   "metadata": {},
   "outputs": [],
   "source": [
    "try:\n",
    "    detailed_recipe = Marmiton.get(main_recipe_url)  # Get the details of the first returned recipe (most relevant in our case)\n",
    "except RecipeNotFound as e:\n",
    "    print(f\"No recipe found for '{query_options['aqt']}'\")\n",
    "    import sys\n",
    "    sys.exit(0)"
   ]
  },
  {
   "cell_type": "code",
   "execution_count": 10,
   "metadata": {},
   "outputs": [
    {
     "name": "stdout",
     "output_type": "stream",
     "text": [
      "## Boeuf bourguignon : la vraie recette\n",
      "\n",
      "Recette par 'Anonyme'\n",
      "Noté /5 par 0 personnes.\n",
      "Temps de cuisson : 4 h / Temps de préparation : 1 h / Temps total : .\n",
      "Difficulté : ''\n",
      "Budget : ''\n"
     ]
    }
   ],
   "source": [
    "print(\"## %s\\n\" % detailed_recipe['name'])  # Name of the recipe\n",
    "print(\"Recette par '%s'\" % (detailed_recipe['author']))\n",
    "print(\"Noté %s/5 par %s personnes.\" % (detailed_recipe['rate'], detailed_recipe['nb_comments']))\n",
    "print(\"Temps de cuisson : %s / Temps de préparation : %s / Temps total : %s.\" % (detailed_recipe['cook_time'] if detailed_recipe['cook_time'] else 'N/A',detailed_recipe['prep_time'], detailed_recipe['total_time']))\n",
    "print(\"Difficulté : '%s'\" % detailed_recipe['difficulty'])\n",
    "print(\"Budget : '%s'\" % detailed_recipe['budget'])"
   ]
  }
 ],
 "metadata": {
  "kernelspec": {
   "display_name": "Python 3",
   "language": "python",
   "name": "python3"
  },
  "language_info": {
   "codemirror_mode": {
    "name": "ipython",
    "version": 3
   },
   "file_extension": ".py",
   "mimetype": "text/x-python",
   "name": "python",
   "nbconvert_exporter": "python",
   "pygments_lexer": "ipython3",
   "version": "3.10.9"
  }
 },
 "nbformat": 4,
 "nbformat_minor": 2
}
